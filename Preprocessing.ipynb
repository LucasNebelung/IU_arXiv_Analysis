{
 "cells": [
  {
   "cell_type": "code",
   "execution_count": null,
   "metadata": {},
   "outputs": [],
   "source": [
    "################################################\n",
    "#   I. Preprocessing                         ###\n",
    "################################################\n",
    "\n",
    "\n",
    "\n",
    "# 1.0 Importing libraries and data\n",
    "import pandas as pd\n",
    "\n",
    "df_raw = pd.read_json(\"original_data.json\", lines=True)"
   ]
  },
  {
   "cell_type": "code",
   "execution_count": null,
   "metadata": {},
   "outputs": [],
   "source": [
    "# 1.1) Extract the primary category from the 'categories' column\n",
    "df_raw[\"primary_category\"] = df_raw[\"categories\"].str.split().str[0]\n",
    "\n",
    "\n",
    "# 1.2)  Extract the creation date from the *first* version (v1) \n",
    "def get_first_version_date(versions_list):\n",
    "    if versions_list and isinstance(versions_list, list) and len(versions_list) > 0:\n",
    "        first_version = versions_list[0]\n",
    "        return first_version.get(\"created\", None)\n",
    "    return None\n",
    "\n",
    "df_raw[\"created_date\"] = df_raw[\"versions\"].apply(get_first_version_date)\n",
    "\n",
    "# 1.3) Convert the date strings to datetime objects and extract the year\n",
    "df_raw[\"created_date\"] = pd.to_datetime(df_raw[\"created_date\"], errors=\"coerce\")\n",
    "df_raw[\"year\"] = df_raw[\"created_date\"].dt.year\n",
    "\n"
   ]
  },
  {
   "cell_type": "code",
   "execution_count": null,
   "metadata": {},
   "outputs": [
    {
     "ename": "NameError",
     "evalue": "name 'pd' is not defined",
     "output_type": "error",
     "traceback": [
      "\u001b[1;31m---------------------------------------------------------------------------\u001b[0m",
      "\u001b[1;31mNameError\u001b[0m                                 Traceback (most recent call last)",
      "Cell \u001b[1;32mIn[1], line 21\u001b[0m\n\u001b[0;32m     15\u001b[0m new_rows \u001b[38;5;241m=\u001b[39m [\n\u001b[0;32m     16\u001b[0m     {\u001b[38;5;124m\"\u001b[39m\u001b[38;5;124mcategory\u001b[39m\u001b[38;5;124m\"\u001b[39m: \u001b[38;5;124m\"\u001b[39m\u001b[38;5;124mastro-ph\u001b[39m\u001b[38;5;124m\"\u001b[39m, \u001b[38;5;124m\"\u001b[39m\u001b[38;5;124mfield\u001b[39m\u001b[38;5;124m\"\u001b[39m: \u001b[38;5;124m\"\u001b[39m\u001b[38;5;124mPhysics\u001b[39m\u001b[38;5;124m\"\u001b[39m,},\n\u001b[0;32m     17\u001b[0m     {\u001b[38;5;124m\"\u001b[39m\u001b[38;5;124mcategory\u001b[39m\u001b[38;5;124m\"\u001b[39m: \u001b[38;5;124m\"\u001b[39m\u001b[38;5;124mcond-mat\u001b[39m\u001b[38;5;124m\"\u001b[39m,  \u001b[38;5;124m\"\u001b[39m\u001b[38;5;124mfield\u001b[39m\u001b[38;5;124m\"\u001b[39m: \u001b[38;5;124m\"\u001b[39m\u001b[38;5;124mPhysics\u001b[39m\u001b[38;5;124m\"\u001b[39m,},\n\u001b[0;32m     18\u001b[0m ]\n\u001b[0;32m     20\u001b[0m \u001b[38;5;66;03m# Convert the list of dicts to a DataFrame\u001b[39;00m\n\u001b[1;32m---> 21\u001b[0m df_manual_rows  \u001b[38;5;241m=\u001b[39m \u001b[43mpd\u001b[49m\u001b[38;5;241m.\u001b[39mDataFrame(new_rows)\n\u001b[0;32m     23\u001b[0m \u001b[38;5;66;03m# Append to your existing df_cats_map\u001b[39;00m\n\u001b[0;32m     24\u001b[0m df_cats_map \u001b[38;5;241m=\u001b[39m pd\u001b[38;5;241m.\u001b[39mconcat([df_cats_map, df_manual_rows], ignore_index\u001b[38;5;241m=\u001b[39m\u001b[38;5;28;01mTrue\u001b[39;00m)\n",
      "\u001b[1;31mNameError\u001b[0m: name 'pd' is not defined"
     ]
    }
   ],
   "source": [
    "import pyreadr\n",
    "\n",
    "# This loads object \"arxiv_cats.RData\" to result\n",
    "result = pyreadr.read_r(\"arxiv_cats.RData\")\n",
    "# This stores result as dataframe \n",
    "df_cats_map = result [\"arxiv_cats\"]\n",
    "\n",
    "\n",
    "# getting rid of unnecessary columns\n",
    "df_cats_map.drop(columns=[\"long_description\"], inplace=True)\n",
    "df_cats_map.drop(columns=[\"short_description\"], inplace=True)\n",
    "df_cats_map.drop(columns=[\"subfield\"], inplace=True)\n",
    "\n",
    "# Adding a few rows manually because of wrong formating in df_cats_map DAtaframe (astro-ph vs astro-ph.Co )\n",
    "new_rows = [\n",
    "    {\"category\": \"astro-ph\", \"field\": \"Physics\",},\n",
    "    {\"category\": \"cond-mat\",  \"field\": \"Physics\",},\n",
    "]\n",
    "\n",
    "# Convert the list of dicts to a DataFrame\n",
    "df_manual_rows  = pd.DataFrame(new_rows)\n",
    "\n",
    "# Append to your existing df_cats_map\n",
    "df_cats_map = pd.concat([df_cats_map, df_manual_rows], ignore_index=True)\n",
    "\n"
   ]
  },
  {
   "cell_type": "code",
   "execution_count": null,
   "metadata": {},
   "outputs": [],
   "source": [
    "\n",
    "# merging df_cats_map with df\n",
    "\n",
    "df = pd.merge(\n",
    "    df_raw,\n",
    "    df_cats_map, \n",
    "    how=\"left\",            # keep all rows from df_mai n\n",
    "    left_on=\"primary_category\",\n",
    "    right_on=\"category\"\n",
    ")"
   ]
  },
  {
   "cell_type": "code",
   "execution_count": null,
   "metadata": {},
   "outputs": [],
   "source": [
    "# for better overview I trim the data to make it more convenient\n",
    "\n",
    "df_final = df.drop(columns=[\"submitter\", \"authors\", \"comments\", \"journal-ref\", \"doi\", \"report-no\", \"license\", \"versions\", \"update_date\", \"authors_parsed\", \"created_date\",])"
   ]
  },
  {
   "cell_type": "code",
   "execution_count": null,
   "metadata": {},
   "outputs": [],
   "source": [
    "########################################\n",
    "###### exporting df_final to pickle ######\n",
    "########################################\n",
    "\n",
    "df_final.to_pickle(\"df_clean.pkl\")\n"
   ]
  }
 ],
 "metadata": {
  "kernelspec": {
   "display_name": "pytorch_env",
   "language": "python",
   "name": "python3"
  },
  "language_info": {
   "codemirror_mode": {
    "name": "ipython",
    "version": 3
   },
   "file_extension": ".py",
   "mimetype": "text/x-python",
   "name": "python",
   "nbconvert_exporter": "python",
   "pygments_lexer": "ipython3",
   "version": "3.9.21"
  }
 },
 "nbformat": 4,
 "nbformat_minor": 2
}
